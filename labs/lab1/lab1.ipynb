{
 "cells": [
  {
   "metadata": {
    "ExecuteTime": {
     "end_time": "2025-09-05T12:13:54.662248Z",
     "start_time": "2025-09-05T12:13:54.644395Z"
    }
   },
   "cell_type": "code",
   "source": [
    "import pandas as pd\n",
    "\n",
    "df = pd.read_json('data.json', lines=True)"
   ],
   "id": "3b91ce0f54187892",
   "outputs": [],
   "execution_count": 6
  },
  {
   "metadata": {
    "ExecuteTime": {
     "end_time": "2025-09-05T12:14:00.640226Z",
     "start_time": "2025-09-05T12:14:00.612869Z"
    }
   },
   "cell_type": "code",
   "source": "df.head()",
   "id": "72811467a20bf13f",
   "outputs": [
    {
     "data": {
      "text/plain": [
       "                                                  en  \\\n",
       "0  A young man participates in a career while the...   \n",
       "1  The man is scratching the back of his neck whi...   \n",
       "2  A person wearing goggles and a hat is sled rid...   \n",
       "3  A girl in a pink coat and flowered goloshes sl...   \n",
       "4  Three girls are standing in front of a window ...   \n",
       "\n",
       "                                                  uk  \n",
       "0  Молодий чоловік бере участь у кар'єрі, а суб'є...  \n",
       "1  Чоловік чухає потилицю, шукаючи книгу в книжко...  \n",
       "2  Людина в окулярах та капелюсі катається на санях.  \n",
       "3  Дівчина в рожевому пальті та квітчастих калоша...  \n",
       "4           Три дівчини стоять перед вікном будівлі.  "
      ],
      "text/html": [
       "<div>\n",
       "<style scoped>\n",
       "    .dataframe tbody tr th:only-of-type {\n",
       "        vertical-align: middle;\n",
       "    }\n",
       "\n",
       "    .dataframe tbody tr th {\n",
       "        vertical-align: top;\n",
       "    }\n",
       "\n",
       "    .dataframe thead th {\n",
       "        text-align: right;\n",
       "    }\n",
       "</style>\n",
       "<table border=\"1\" class=\"dataframe\">\n",
       "  <thead>\n",
       "    <tr style=\"text-align: right;\">\n",
       "      <th></th>\n",
       "      <th>en</th>\n",
       "      <th>uk</th>\n",
       "    </tr>\n",
       "  </thead>\n",
       "  <tbody>\n",
       "    <tr>\n",
       "      <th>0</th>\n",
       "      <td>A young man participates in a career while the...</td>\n",
       "      <td>Молодий чоловік бере участь у кар'єрі, а суб'є...</td>\n",
       "    </tr>\n",
       "    <tr>\n",
       "      <th>1</th>\n",
       "      <td>The man is scratching the back of his neck whi...</td>\n",
       "      <td>Чоловік чухає потилицю, шукаючи книгу в книжко...</td>\n",
       "    </tr>\n",
       "    <tr>\n",
       "      <th>2</th>\n",
       "      <td>A person wearing goggles and a hat is sled rid...</td>\n",
       "      <td>Людина в окулярах та капелюсі катається на санях.</td>\n",
       "    </tr>\n",
       "    <tr>\n",
       "      <th>3</th>\n",
       "      <td>A girl in a pink coat and flowered goloshes sl...</td>\n",
       "      <td>Дівчина в рожевому пальті та квітчастих калоша...</td>\n",
       "    </tr>\n",
       "    <tr>\n",
       "      <th>4</th>\n",
       "      <td>Three girls are standing in front of a window ...</td>\n",
       "      <td>Три дівчини стоять перед вікном будівлі.</td>\n",
       "    </tr>\n",
       "  </tbody>\n",
       "</table>\n",
       "</div>"
      ]
     },
     "execution_count": 7,
     "metadata": {},
     "output_type": "execute_result"
    }
   ],
   "execution_count": 7
  },
  {
   "metadata": {},
   "cell_type": "code",
   "outputs": [],
   "execution_count": null,
   "source": "",
   "id": "b35bac62f869c1e5"
  }
 ],
 "metadata": {
  "kernelspec": {
   "display_name": "Python 3",
   "language": "python",
   "name": "python3"
  },
  "language_info": {
   "codemirror_mode": {
    "name": "ipython",
    "version": 2
   },
   "file_extension": ".py",
   "mimetype": "text/x-python",
   "name": "python",
   "nbconvert_exporter": "python",
   "pygments_lexer": "ipython2",
   "version": "2.7.6"
  }
 },
 "nbformat": 4,
 "nbformat_minor": 5
}
